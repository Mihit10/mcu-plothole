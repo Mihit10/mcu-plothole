{
 "cells": [
  {
   "cell_type": "code",
   "execution_count": 7,
   "id": "bf704231",
   "metadata": {},
   "outputs": [
    {
     "name": "stderr",
     "output_type": "stream",
     "text": [
      "C:\\Users\\Thakk\\AppData\\Local\\Temp\\ipykernel_30304\\4192165398.py:50: DeprecationWarning: write_transaction has been renamed to execute_write\n",
      "  session.write_transaction(create_entity, entity[\"text\"], entity[\"label\"])\n",
      "C:\\Users\\Thakk\\AppData\\Local\\Temp\\ipykernel_30304\\4192165398.py:55: DeprecationWarning: write_transaction has been renamed to execute_write\n",
      "  session.write_transaction(create_relation, rel[\"subject\"], rel[\"predicate\"], rel[\"object\"])\n"
     ]
    }
   ],
   "source": [
    "from neo4j import GraphDatabase\n",
    "import json\n",
    "\n",
    "# Load data\n",
    "with open(\"test_ant.json\", \"r\", encoding=\"utf-8\") as f:\n",
    "    data = json.load(f)\n",
    "\n",
    "entities = data[\"entities\"]\n",
    "relations = data[\"relations\"]\n",
    "\n",
    "# Label mapping for node types\n",
    "label_map = {\n",
    "    \"character\": \"Human\",\n",
    "    \"ai\": \"AI\",\n",
    "    \"organization\": \"Organization\",\n",
    "    \"location\": \"Location\",\n",
    "    \"weapon\": \"Weapon\",\n",
    "    \"vehicle\": \"Vehicle\",\n",
    "    \"timelines\": \"Timeline\"\n",
    "}\n",
    "\n",
    "# Connect to Neo4j\n",
    "driver = GraphDatabase.driver(\"bolt://localhost:7687\", auth=(\"neo4j\", \"password\"))\n",
    "\n",
    "# Create entity node\n",
    "def create_entity(tx, name, label):\n",
    "    cypher_label = label_map.get(label, \"Entity\")\n",
    "    query = f\"\"\"\n",
    "    MERGE (n:{cypher_label} {{name: $name}})\n",
    "    SET n.type = $label_type, n.confidence = $confidence\n",
    "    \"\"\"\n",
    "    tx.run(query, name=name, label_type=label.lower(), confidence=0.9)\n",
    "\n",
    "\n",
    "# Create relationship (assumes subject & object nodes exist or are already merged)\n",
    "def create_relation(tx, subject, predicate, obj):\n",
    "    # Safely handle predicates with special characters by wrapping them in backticks\n",
    "    predicate = f\"`{predicate.upper().replace(' ', '_')}`\"\n",
    "    query = f\"\"\"\n",
    "    MERGE (a {{name: $subject}})\n",
    "    MERGE (b {{name: $object}})\n",
    "    MERGE (a)-[r:{predicate}]->(b)\n",
    "    \"\"\"\n",
    "    tx.run(query, subject=subject, object=obj)\n",
    "\n",
    "\n",
    "with driver.session(database=\"test3\") as session:\n",
    "    # Load Entities\n",
    "    for entity in entities:\n",
    "        session.write_transaction(create_entity, entity[\"text\"], entity[\"label\"])\n",
    "\n",
    "\n",
    "    # # Load All Relations (no validation)\n",
    "    for rel in relations:\n",
    "        session.write_transaction(create_relation, rel[\"subject\"], rel[\"predicate\"], rel[\"object\"])\n",
    "\n",
    "driver.close()\n"
   ]
  },
  {
   "cell_type": "code",
   "execution_count": 2,
   "id": "7b227a42",
   "metadata": {},
   "outputs": [
    {
     "name": "stderr",
     "output_type": "stream",
     "text": [
      "C:\\Users\\Thakk\\AppData\\Local\\Temp\\ipykernel_36300\\2750105068.py:26: DeprecationWarning: write_transaction has been renamed to execute_write\n",
      "  session.write_transaction(\n"
     ]
    }
   ],
   "source": [
    "from neo4j import GraphDatabase\n",
    "import json\n",
    "\n",
    "# Load JSON file\n",
    "with open(\"endgame.json\", \"r\", encoding=\"utf-8\") as f:\n",
    "    data = json.load(f)\n",
    "\n",
    "relations = data.get(\"relations\", [])\n",
    "\n",
    "# Neo4j setup\n",
    "driver = GraphDatabase.driver(\"bolt://localhost:7687\", auth=(\"neo4j\", \"password\"))\n",
    "\n",
    "# Create relation function\n",
    "def create_relation(tx, subject, predicate, object_):\n",
    "    query = \"\"\"\n",
    "    MERGE (a {name: $subject})\n",
    "    MERGE (b {name: $object})\n",
    "    MERGE (a)-[r:%s]->(b)\n",
    "    RETURN a, r, b\n",
    "    \"\"\" % predicate.upper().replace(\" \", \"_\")  # convert to uppercase and safe format\n",
    "    tx.run(query, subject=subject, object=object_)\n",
    "\n",
    "# Feed into Neo4j\n",
    "with driver.session() as session:\n",
    "    for rel in relations:\n",
    "        session.write_transaction(\n",
    "            create_relation,\n",
    "            rel[\"subject\"],\n",
    "            rel[\"predicate\"],\n",
    "            rel[\"object\"]\n",
    "        )\n",
    "\n",
    "driver.close()\n"
   ]
  },
  {
   "cell_type": "code",
   "execution_count": null,
   "id": "5c51eeff",
   "metadata": {},
   "outputs": [],
   "source": []
  }
 ],
 "metadata": {
  "kernelspec": {
   "display_name": "Python 3",
   "language": "python",
   "name": "python3"
  },
  "language_info": {
   "codemirror_mode": {
    "name": "ipython",
    "version": 3
   },
   "file_extension": ".py",
   "mimetype": "text/x-python",
   "name": "python",
   "nbconvert_exporter": "python",
   "pygments_lexer": "ipython3",
   "version": "3.12.5"
  }
 },
 "nbformat": 4,
 "nbformat_minor": 5
}
